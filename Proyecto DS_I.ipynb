{
  "nbformat": 4,
  "nbformat_minor": 0,
  "metadata": {
    "colab": {
      "provenance": [],
      "authorship_tag": "ABX9TyPvXbxoSIHUU5Z0EKY6ogCh",
      "include_colab_link": true
    },
    "kernelspec": {
      "name": "python3",
      "display_name": "Python 3"
    },
    "language_info": {
      "name": "python"
    }
  },
  "cells": [
    {
      "cell_type": "markdown",
      "metadata": {
        "id": "view-in-github",
        "colab_type": "text"
      },
      "source": [
        "<a href=\"https://colab.research.google.com/github/JorgeTabera/CoderH_DataScienceI/blob/main/Proyecto%20DS_I.ipynb\" target=\"_parent\"><img src=\"https://colab.research.google.com/assets/colab-badge.svg\" alt=\"Open In Colab\"/></a>"
      ]
    },
    {
      "cell_type": "markdown",
      "source": [
        "### 📊 Introducción y objetivos del proyecto\n",
        "\n",
        "Este proyecto tiene como finalidad explorar y analizar un conjunto de datos históricos de **partidos internacionales entre selecciones nacionales de fútbol masculino**, desde 1872 hasta 2025. El objetivo principal es identificar patrones y comportamientos que permitan generar predicciones sobre futuros encuentros.\n",
        "\n",
        "A lo largo del análisis, se buscará responder a las siguientes preguntas:\n",
        "\n",
        "- ¿Qué selección nacional tiene mayor probabilidad de ganar un partido, considerando el historial entre ambos equipos?\n",
        "- ¿Influye significativamente la localía en el resultado de un partido?\n",
        "- ¿Se puede estimar cuántos goles puede anotar o recibir una selección en función de su rendimiento pasado?\n",
        "- ¿Las selecciones que vienen con una buena racha de victorias tienen más chances de seguir ganando?\n",
        "- ¿Qué países han mostrado mayor regularidad en su rendimiento a lo largo de los años?\n",
        "- ¿Existen diferencias notables en el rendimiento según el continente de origen de las selecciones?\n",
        "\n",
        "Estas preguntas se abordarán a través de análisis exploratorio, visualizaciones y modelos predictivos, utilizando los datos históricos disponibles de partidos entre selecciones nacionales.\n"
      ],
      "metadata": {
        "id": "xguepRcA-Rn4"
      }
    },
    {
      "cell_type": "markdown",
      "source": [
        " ### ⚽ Dataset 1 *Results.csv:* Resultados de partidos internacionales de selecciones nacionales\n",
        "\n",
        "**Variables potencialmente interesantes:**\n",
        "\n",
        "- `home_team` y `away_team`: Permiten identificar qué selecciones jugaron cada partido, base para todo tipo de análisis.\n",
        "- `home_score` y `away_score`: Indican el número de goles anotados por cada equipo. Es clave para medir rendimiento y predecir resultados.\n",
        "- `date`: Ayuda a analizar tendencias temporales y evolución del rendimiento a lo largo del tiempo.\n",
        "- `tournament`: Informa en qué tipo de competencia se jugó el partido (amistoso, Copa Mundial, etc.), lo que puede influir en la importancia del encuentro.\n",
        "- `country`: Permite determinar la localía (junto con `home_team`) y analizar la ventaja de jugar en casa.\n",
        "- `neutral`: Indica si el partido fue en cancha neutral o no, variable importante para evaluar el efecto de localía.\n",
        "\n",
        "\n",
        "---\n",
        "\n",
        "### 🥅 Dataset 2 *Shootouts.csv:* Tandas de penaltis\n",
        "\n",
        "**Variables potencialmente interesantes:**\n",
        "\n",
        "- `date`: Permite identificar en qué momento se jugó la tanda de penales y analizar su frecuencia por períodos.\n",
        "- `home_team` y `away_team`: Selecciones que participaron del partido, útil para identificar qué equipos suelen llegar a esa instancia.\n",
        "- `winner`: Informa qué equipo ganó la tanda de penaltis, lo que puede usarse para analizar efectividad histórica.\n",
        "- `first_shooter`: Indica qué equipo pateó primero, variable interesante para estudiar si influye en el resultado de la serie.\n",
        "\n",
        "---\n",
        "\n",
        "### ⚽ Dataset 3 *Goalscorers.csv:* Goleadores\n",
        "\n",
        "**Variables potencialmente interesantes:**\n",
        "\n",
        "- `date`: Fecha en que se marcó el gol, clave para analizar tendencias a lo largo del tiempo.\n",
        "- `home_team` y `away_team`: Contexto del partido en el que ocurrió el gol.\n",
        "- `team`: Selección que anotó el gol, útil para ver qué equipos convierten más.\n",
        "- `scorer`: Nombre del jugador que anotó, útil para identificar a los goleadores históricos.\n",
        "- `own_goal`: Variable booleana que indica si fue un gol en contra, importante para separar este tipo de eventos.\n",
        "- `penalty`: Indica si el gol fue de penal, lo que permite diferenciar entre goles en juego y a balón parado.\n",
        "\n",
        "---\n",
        "\n",
        "### 🗂️ Dataset 4 *Former_names.csv:* Nombres anteriores de selecciones nacionales\n",
        "\n",
        "**Variables potencialmente interesantes:**\n",
        "\n",
        "- `current`: Nombre actual de la selección, útil para estandarizar y cruzar con otros datasets.\n",
        "- `former`: Nombre anterior que tenía la selección, clave para mantener coherencia histórica en los registros.\n",
        "- `start_date` y `end_date`: Fechas que indican desde cuándo y hasta cuándo se utilizó el nombre anterior, importante para análisis temporales con datos antiguos.\n"
      ],
      "metadata": {
        "id": "FNT_KtTWD1yj"
      }
    },
    {
      "cell_type": "code",
      "source": [
        "import pandas as pd\n",
        "from google.colab import drive\n",
        "import os ## cambiar directorio de drive\n",
        "drive.mount('/content/drive')\n",
        "os.chdir('/content/drive//MyDrive/CoderHouse/Data Science I/DataSet Selecciones/')"
      ],
      "metadata": {
        "colab": {
          "base_uri": "https://localhost:8080/"
        },
        "id": "DY41DKNHWckI",
        "outputId": "d280bd87-d627-4293-999c-8d6495363a0e"
      },
      "execution_count": null,
      "outputs": [
        {
          "output_type": "stream",
          "name": "stdout",
          "text": [
            "Mounted at /content/drive\n"
          ]
        }
      ]
    },
    {
      "cell_type": "code",
      "source": [
        "df_results = pd.read_csv('results.csv')\n",
        "df_goalscorers = pd.read_csv('goalscorers.csv')\n",
        "df_shootouts = pd.read_csv('shootouts.csv')\n",
        "df_former_names = pd.read_csv('former_names.csv')"
      ],
      "metadata": {
        "id": "ZhzIJhxIc5aZ"
      },
      "execution_count": null,
      "outputs": []
    },
    {
      "cell_type": "code",
      "source": [
        "hhh"
      ],
      "metadata": {
        "id": "vT6tfJZzl1Er"
      },
      "execution_count": null,
      "outputs": []
    }
  ]
}