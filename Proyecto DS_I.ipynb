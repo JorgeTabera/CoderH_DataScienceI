{
  "nbformat": 4,
  "nbformat_minor": 0,
  "metadata": {
    "colab": {
      "provenance": [],
      "authorship_tag": "ABX9TyPDGnlHqwY66GW3enNT86XX",
      "include_colab_link": true
    },
    "kernelspec": {
      "name": "python3",
      "display_name": "Python 3"
    },
    "language_info": {
      "name": "python"
    }
  },
  "cells": [
    {
      "cell_type": "markdown",
      "metadata": {
        "id": "view-in-github",
        "colab_type": "text"
      },
      "source": [
        "<a href=\"https://colab.research.google.com/github/JorgeTabera/CoderH_DataScienceI/blob/main/Proyecto%20DS_I.ipynb\" target=\"_parent\"><img src=\"https://colab.research.google.com/assets/colab-badge.svg\" alt=\"Open In Colab\"/></a>"
      ]
    },
    {
      "cell_type": "markdown",
      "source": [
        "### 📊 Introducción y objetivos del proyecto\n",
        "## Introducción\n",
        "\n",
        "Este proyecto tiene como finalidad explorar y analizar un conjunto de datos sobre **aplicaciones móviles disponibles en Google Play Store**. El objetivo principal es identificar patrones de comportamiento entre las aplicaciones y generar modelos predictivos útiles para entender mejor qué características influyen en su éxito.\n",
        "\n",
        "A lo largo del análisis, se buscará responder a las siguientes preguntas:\n",
        "\n",
        "- ¿Qué categorías de aplicaciones son las más populares?\n",
        "- ¿Influyen el tamaño, tipo (gratis o paga), y la clasificación en la cantidad de descargas?\n",
        "- ¿Qué relación existe entre las calificaciones de los usuarios y el número de reseñas?\n",
        "- ¿Las aplicaciones gratuitas tienden a obtener más instalaciones que las pagas?\n",
        "- ¿Qué géneros están asociados con mejores valoraciones por parte del público?\n",
        "- ¿Se puede predecir la cantidad de instalaciones de una app a partir de sus características?\n",
        "\n",
        "Estas preguntas se abordarán mediante análisis exploratorio, visualizaciones y modelos predictivos, aprovechando la información disponible en el dataset de Google Play.\n",
        "\n",
        "\n"
      ],
      "metadata": {
        "id": "xguepRcA-Rn4"
      }
    },
    {
      "cell_type": "markdown",
      "source": [
        "## Objetivo del Modelo\n",
        "\n",
        "El objetivo del modelo es **predecir la cantidad de instalaciones** que puede alcanzar una aplicación en Google Play Store, utilizando como variables predictoras sus características disponibles: categoría, calificación, número de reseñas, tamaño, tipo (gratis o paga), precio, género, versión mínima de Android, entre otras.\n",
        "\n",
        "Este tipo de predicción puede resultar útil para:\n",
        "\n",
        "- Desarrolladores que deseen optimizar sus aplicaciones para alcanzar mayor visibilidad y descargas.\n",
        "- Empresas que analizan tendencias del mercado móvil.\n",
        "- Usuarios interesados en entender qué factores están asociados al éxito de una app.\n",
        "\n",
        "Para lograr este objetivo, se construirán modelos supervisados de regresión y/o clasificación, según el tipo de transformación aplicada a la variable de instalaciones.\n"
      ],
      "metadata": {
        "id": "FNT_KtTWD1yj"
      }
    },
    {
      "cell_type": "markdown",
      "source": [
        "### 📱 Dataset: Aplicaciones en Google Play Store\n",
        "\n",
        "Este dataset contiene información detallada sobre diversas aplicaciones publicadas en la plataforma Google Play. Puede ser utilizado para analizar factores asociados al éxito de una app, entender tendencias en categorías y evaluar características técnicas.\n",
        "\n",
        "**Variables potencialmente interesantes:**\n",
        "\n",
        "- `App`: Nombre de la app, útil para identificar y agrupar registros únicos.\n",
        "- `Category`: Permite clasificar las apps por tipo (JUEGO, EDUCACIÓN, SALUD, etc.), ideal para análisis por sector.\n",
        "- `Rating`: Puntuación promedio otorgada por los usuarios. Es un indicador directo de calidad o satisfacción.\n",
        "- `Reviews`: Número de opiniones recibidas. Puede relacionarse con el nivel de popularidad o visibilidad.\n",
        "- `Size`: Tamaño en MB/KB. Permite estudiar si las apps más livianas tienen más instalaciones.\n",
        "- `Installs`: Representa cuántas veces fue descargada la app. Será la variable objetivo a predecir.\n",
        "- `Type`: Define si la app es gratuita o paga. Puede influir fuertemente en la cantidad de instalaciones.\n",
        "- `Price`: Precio en USD. Solo relevante para apps de pago, puede influir en las descargas.\n",
        "- `Content Rating`: Público objetivo (por ejemplo, “Todos”, “Adolescentes”). Permite segmentar las apps por edad.\n",
        "- `Genres`: Géneros o subcategorías asociadas. Útil para análisis de nichos específicos.\n",
        "- `Last Updated`: Fecha de última modificación. Ayuda a medir mantenimiento o actualización activa.\n",
        "- `Current Version`: Versión de la app. Puede indicar grado de evolución o mejoras.\n",
        "- `Android Version`: Mínimo requerido para funcionar. Puede influir en el alcance del público.\n",
        "\n",
        "Este conjunto de datos será la base para realizar análisis exploratorios, visualizaciones, y modelado predictivo sobre la popularidad y el rendimiento de las aplicaciones.\n"
      ],
      "metadata": {
        "id": "O-2NVGhwDxek"
      }
    },
    {
      "cell_type": "code",
      "source": [
        "import pandas as pd\n",
        "from google.colab import drive\n",
        "import os ## cambiar directorio de drive\n",
        "drive.mount('/content/drive')\n",
        "os.chdir('/content/drive//MyDrive/CoderHouse/Data Science I/DataSet GooglePlayStore/')"
      ],
      "metadata": {
        "id": "DY41DKNHWckI",
        "colab": {
          "base_uri": "https://localhost:8080/"
        },
        "outputId": "4a6a9a30-fc9d-4e35-8c73-c6f5d3cee388"
      },
      "execution_count": 1,
      "outputs": [
        {
          "output_type": "stream",
          "name": "stdout",
          "text": [
            "Drive already mounted at /content/drive; to attempt to forcibly remount, call drive.mount(\"/content/drive\", force_remount=True).\n"
          ]
        }
      ]
    },
    {
      "cell_type": "code",
      "source": [
        "# URLs de los archivos CSV en GitHub\n",
        "# url_results = 'https://raw.githubusercontent.com/JorgeTabera/CoderH_DataScienceI/main/DataSet%20Selecciones/results.csv'"
      ],
      "metadata": {
        "id": "89FlbwjjRm9l"
      },
      "execution_count": 2,
      "outputs": []
    },
    {
      "cell_type": "code",
      "source": [
        "# Cargar los archivos CSV desde Git a pd\n",
        "df_GooglePlay = pd.read_csv('google_play_store_dataset.csv')\n",
        "df_GooglePlay.head(1)"
      ],
      "metadata": {
        "id": "VWgVKOiGSmtn",
        "colab": {
          "base_uri": "https://localhost:8080/",
          "height": 115
        },
        "outputId": "8487d1f4-ff86-479b-a43c-dc730a6141ba"
      },
      "execution_count": 3,
      "outputs": [
        {
          "output_type": "execute_result",
          "data": {
            "text/plain": [
              "                                              App        Category  Rating  \\\n",
              "0  Photo Editor & Candy Camera & Grid & ScrapBook  ART_AND_DESIGN     4.1   \n",
              "\n",
              "  Reviews Size Installs  Type Price Content Rating        Genres  \\\n",
              "0     159  19M  10,000+  Free     0       Everyone  Art & Design   \n",
              "\n",
              "      Last Updated Current Ver   Android Ver  \n",
              "0  January 7, 2018       1.0.0  4.0.3 and up  "
            ],
            "text/html": [
              "\n",
              "  <div id=\"df-3b366fa2-9f59-44ed-b33d-0753d4132e8a\" class=\"colab-df-container\">\n",
              "    <div>\n",
              "<style scoped>\n",
              "    .dataframe tbody tr th:only-of-type {\n",
              "        vertical-align: middle;\n",
              "    }\n",
              "\n",
              "    .dataframe tbody tr th {\n",
              "        vertical-align: top;\n",
              "    }\n",
              "\n",
              "    .dataframe thead th {\n",
              "        text-align: right;\n",
              "    }\n",
              "</style>\n",
              "<table border=\"1\" class=\"dataframe\">\n",
              "  <thead>\n",
              "    <tr style=\"text-align: right;\">\n",
              "      <th></th>\n",
              "      <th>App</th>\n",
              "      <th>Category</th>\n",
              "      <th>Rating</th>\n",
              "      <th>Reviews</th>\n",
              "      <th>Size</th>\n",
              "      <th>Installs</th>\n",
              "      <th>Type</th>\n",
              "      <th>Price</th>\n",
              "      <th>Content Rating</th>\n",
              "      <th>Genres</th>\n",
              "      <th>Last Updated</th>\n",
              "      <th>Current Ver</th>\n",
              "      <th>Android Ver</th>\n",
              "    </tr>\n",
              "  </thead>\n",
              "  <tbody>\n",
              "    <tr>\n",
              "      <th>0</th>\n",
              "      <td>Photo Editor &amp; Candy Camera &amp; Grid &amp; ScrapBook</td>\n",
              "      <td>ART_AND_DESIGN</td>\n",
              "      <td>4.1</td>\n",
              "      <td>159</td>\n",
              "      <td>19M</td>\n",
              "      <td>10,000+</td>\n",
              "      <td>Free</td>\n",
              "      <td>0</td>\n",
              "      <td>Everyone</td>\n",
              "      <td>Art &amp; Design</td>\n",
              "      <td>January 7, 2018</td>\n",
              "      <td>1.0.0</td>\n",
              "      <td>4.0.3 and up</td>\n",
              "    </tr>\n",
              "  </tbody>\n",
              "</table>\n",
              "</div>\n",
              "    <div class=\"colab-df-buttons\">\n",
              "\n",
              "  <div class=\"colab-df-container\">\n",
              "    <button class=\"colab-df-convert\" onclick=\"convertToInteractive('df-3b366fa2-9f59-44ed-b33d-0753d4132e8a')\"\n",
              "            title=\"Convert this dataframe to an interactive table.\"\n",
              "            style=\"display:none;\">\n",
              "\n",
              "  <svg xmlns=\"http://www.w3.org/2000/svg\" height=\"24px\" viewBox=\"0 -960 960 960\">\n",
              "    <path d=\"M120-120v-720h720v720H120Zm60-500h600v-160H180v160Zm220 220h160v-160H400v160Zm0 220h160v-160H400v160ZM180-400h160v-160H180v160Zm440 0h160v-160H620v160ZM180-180h160v-160H180v160Zm440 0h160v-160H620v160Z\"/>\n",
              "  </svg>\n",
              "    </button>\n",
              "\n",
              "  <style>\n",
              "    .colab-df-container {\n",
              "      display:flex;\n",
              "      gap: 12px;\n",
              "    }\n",
              "\n",
              "    .colab-df-convert {\n",
              "      background-color: #E8F0FE;\n",
              "      border: none;\n",
              "      border-radius: 50%;\n",
              "      cursor: pointer;\n",
              "      display: none;\n",
              "      fill: #1967D2;\n",
              "      height: 32px;\n",
              "      padding: 0 0 0 0;\n",
              "      width: 32px;\n",
              "    }\n",
              "\n",
              "    .colab-df-convert:hover {\n",
              "      background-color: #E2EBFA;\n",
              "      box-shadow: 0px 1px 2px rgba(60, 64, 67, 0.3), 0px 1px 3px 1px rgba(60, 64, 67, 0.15);\n",
              "      fill: #174EA6;\n",
              "    }\n",
              "\n",
              "    .colab-df-buttons div {\n",
              "      margin-bottom: 4px;\n",
              "    }\n",
              "\n",
              "    [theme=dark] .colab-df-convert {\n",
              "      background-color: #3B4455;\n",
              "      fill: #D2E3FC;\n",
              "    }\n",
              "\n",
              "    [theme=dark] .colab-df-convert:hover {\n",
              "      background-color: #434B5C;\n",
              "      box-shadow: 0px 1px 3px 1px rgba(0, 0, 0, 0.15);\n",
              "      filter: drop-shadow(0px 1px 2px rgba(0, 0, 0, 0.3));\n",
              "      fill: #FFFFFF;\n",
              "    }\n",
              "  </style>\n",
              "\n",
              "    <script>\n",
              "      const buttonEl =\n",
              "        document.querySelector('#df-3b366fa2-9f59-44ed-b33d-0753d4132e8a button.colab-df-convert');\n",
              "      buttonEl.style.display =\n",
              "        google.colab.kernel.accessAllowed ? 'block' : 'none';\n",
              "\n",
              "      async function convertToInteractive(key) {\n",
              "        const element = document.querySelector('#df-3b366fa2-9f59-44ed-b33d-0753d4132e8a');\n",
              "        const dataTable =\n",
              "          await google.colab.kernel.invokeFunction('convertToInteractive',\n",
              "                                                    [key], {});\n",
              "        if (!dataTable) return;\n",
              "\n",
              "        const docLinkHtml = 'Like what you see? Visit the ' +\n",
              "          '<a target=\"_blank\" href=https://colab.research.google.com/notebooks/data_table.ipynb>data table notebook</a>'\n",
              "          + ' to learn more about interactive tables.';\n",
              "        element.innerHTML = '';\n",
              "        dataTable['output_type'] = 'display_data';\n",
              "        await google.colab.output.renderOutput(dataTable, element);\n",
              "        const docLink = document.createElement('div');\n",
              "        docLink.innerHTML = docLinkHtml;\n",
              "        element.appendChild(docLink);\n",
              "      }\n",
              "    </script>\n",
              "  </div>\n",
              "\n",
              "\n",
              "    </div>\n",
              "  </div>\n"
            ],
            "application/vnd.google.colaboratory.intrinsic+json": {
              "type": "dataframe",
              "variable_name": "df_GooglePlay",
              "summary": "{\n  \"name\": \"df_GooglePlay\",\n  \"rows\": 10841,\n  \"fields\": [\n    {\n      \"column\": \"App\",\n      \"properties\": {\n        \"dtype\": \"string\",\n        \"num_unique_values\": 9660,\n        \"samples\": [\n          \"Run R Script - Online Statistical Data Analysis\",\n          \"EURES - Your Job in Europe\",\n          \"Dog Licks Screen Wallpaper\"\n        ],\n        \"semantic_type\": \"\",\n        \"description\": \"\"\n      }\n    },\n    {\n      \"column\": \"Category\",\n      \"properties\": {\n        \"dtype\": \"category\",\n        \"num_unique_values\": 34,\n        \"samples\": [\n          \"LIBRARIES_AND_DEMO\",\n          \"MEDICAL\",\n          \"PRODUCTIVITY\"\n        ],\n        \"semantic_type\": \"\",\n        \"description\": \"\"\n      }\n    },\n    {\n      \"column\": \"Rating\",\n      \"properties\": {\n        \"dtype\": \"number\",\n        \"std\": 0.5374313031477594,\n        \"min\": 1.0,\n        \"max\": 19.0,\n        \"num_unique_values\": 40,\n        \"samples\": [\n          5.0,\n          3.4,\n          3.3\n        ],\n        \"semantic_type\": \"\",\n        \"description\": \"\"\n      }\n    },\n    {\n      \"column\": \"Reviews\",\n      \"properties\": {\n        \"dtype\": \"string\",\n        \"num_unique_values\": 6002,\n        \"samples\": [\n          \"66661\",\n          \"7479\",\n          \"8978\"\n        ],\n        \"semantic_type\": \"\",\n        \"description\": \"\"\n      }\n    },\n    {\n      \"column\": \"Size\",\n      \"properties\": {\n        \"dtype\": \"category\",\n        \"num_unique_values\": 462,\n        \"samples\": [\n          \"746k\",\n          \"9.4M\",\n          \"35M\"\n        ],\n        \"semantic_type\": \"\",\n        \"description\": \"\"\n      }\n    },\n    {\n      \"column\": \"Installs\",\n      \"properties\": {\n        \"dtype\": \"category\",\n        \"num_unique_values\": 22,\n        \"samples\": [\n          \"10,000+\",\n          \"50+\",\n          \"5,000+\"\n        ],\n        \"semantic_type\": \"\",\n        \"description\": \"\"\n      }\n    },\n    {\n      \"column\": \"Type\",\n      \"properties\": {\n        \"dtype\": \"category\",\n        \"num_unique_values\": 3,\n        \"samples\": [\n          \"Free\",\n          \"Paid\",\n          \"0\"\n        ],\n        \"semantic_type\": \"\",\n        \"description\": \"\"\n      }\n    },\n    {\n      \"column\": \"Price\",\n      \"properties\": {\n        \"dtype\": \"category\",\n        \"num_unique_values\": 93,\n        \"samples\": [\n          \"$17.99\",\n          \"$29.99\",\n          \"$37.99\"\n        ],\n        \"semantic_type\": \"\",\n        \"description\": \"\"\n      }\n    },\n    {\n      \"column\": \"Content Rating\",\n      \"properties\": {\n        \"dtype\": \"category\",\n        \"num_unique_values\": 6,\n        \"samples\": [\n          \"Everyone\",\n          \"Teen\",\n          \"Unrated\"\n        ],\n        \"semantic_type\": \"\",\n        \"description\": \"\"\n      }\n    },\n    {\n      \"column\": \"Genres\",\n      \"properties\": {\n        \"dtype\": \"category\",\n        \"num_unique_values\": 120,\n        \"samples\": [\n          \"Casual;Action & Adventure\",\n          \"Board\",\n          \"Auto & Vehicles\"\n        ],\n        \"semantic_type\": \"\",\n        \"description\": \"\"\n      }\n    },\n    {\n      \"column\": \"Last Updated\",\n      \"properties\": {\n        \"dtype\": \"category\",\n        \"num_unique_values\": 1378,\n        \"samples\": [\n          \"March 15, 2016\",\n          \"May 14, 2013\",\n          \"October 21, 2015\"\n        ],\n        \"semantic_type\": \"\",\n        \"description\": \"\"\n      }\n    },\n    {\n      \"column\": \"Current Ver\",\n      \"properties\": {\n        \"dtype\": \"category\",\n        \"num_unique_values\": 2832,\n        \"samples\": [\n          \"7.0.4.17908\",\n          \"1.2.5.4-11\",\n          \"2.5.7.1\"\n        ],\n        \"semantic_type\": \"\",\n        \"description\": \"\"\n      }\n    },\n    {\n      \"column\": \"Android Ver\",\n      \"properties\": {\n        \"dtype\": \"category\",\n        \"num_unique_values\": 33,\n        \"samples\": [\n          \"2.2 - 7.1.1\",\n          \"7.0 and up\",\n          \"3.1 and up\"\n        ],\n        \"semantic_type\": \"\",\n        \"description\": \"\"\n      }\n    }\n  ]\n}"
            }
          },
          "metadata": {},
          "execution_count": 3
        }
      ]
    },
    {
      "cell_type": "code",
      "source": [
        "import matplotlib.pyplot as plt\n",
        "import seaborn as sns"
      ],
      "metadata": {
        "id": "vT6tfJZzl1Er"
      },
      "execution_count": 4,
      "outputs": []
    },
    {
      "cell_type": "code",
      "source": [
        "# Convertir la columna 'Installs' a tipo string\n",
        "df_GooglePlay['Installs'] = df_GooglePlay['Installs'].astype(str)\n",
        "\n",
        "# Eliminar \"+\" y \",\" y luego convertir a numérico\n",
        "df_GooglePlay['Installs'] = df_GooglePlay['Installs'].str.replace('+', '', regex=False).str.replace(',', '', regex=False)\n",
        "\n",
        "# Convertir la columna 'Installs' a numérico (float)\n",
        "df_GooglePlay['Installs'] = pd.to_numeric(df_GooglePlay['Installs'], errors='coerce')\n",
        "\n",
        "# Valores en rating > 5 sea NA porque Google Play solo da valores hasta 5\n",
        "df_GooglePlay['Rating'] = df_GooglePlay['Rating'].apply(lambda x: x if x <= 5 else pd.NA)\n",
        "\n",
        "#df_GooglePlay_filtered = df_GooglePlay[df_GooglePlay['App'] == 'InfantRisk Center HCP'] #Para comprobar que haya limpiado ok"
      ],
      "metadata": {
        "id": "B8F3XocUVzAb"
      },
      "execution_count": 5,
      "outputs": []
    },
    {
      "cell_type": "code",
      "source": [
        "df_GooglePlay.isnull().sum()"
      ],
      "metadata": {
        "colab": {
          "base_uri": "https://localhost:8080/",
          "height": 492
        },
        "id": "tDqswOnubljz",
        "outputId": "a436bd96-298c-4ffb-e523-6e41eb473597"
      },
      "execution_count": 6,
      "outputs": [
        {
          "output_type": "execute_result",
          "data": {
            "text/plain": [
              "App                  0\n",
              "Category             0\n",
              "Rating            1475\n",
              "Reviews              0\n",
              "Size                 0\n",
              "Installs             1\n",
              "Type                 1\n",
              "Price                0\n",
              "Content Rating       1\n",
              "Genres               0\n",
              "Last Updated         0\n",
              "Current Ver          8\n",
              "Android Ver          3\n",
              "dtype: int64"
            ],
            "text/html": [
              "<div>\n",
              "<style scoped>\n",
              "    .dataframe tbody tr th:only-of-type {\n",
              "        vertical-align: middle;\n",
              "    }\n",
              "\n",
              "    .dataframe tbody tr th {\n",
              "        vertical-align: top;\n",
              "    }\n",
              "\n",
              "    .dataframe thead th {\n",
              "        text-align: right;\n",
              "    }\n",
              "</style>\n",
              "<table border=\"1\" class=\"dataframe\">\n",
              "  <thead>\n",
              "    <tr style=\"text-align: right;\">\n",
              "      <th></th>\n",
              "      <th>0</th>\n",
              "    </tr>\n",
              "  </thead>\n",
              "  <tbody>\n",
              "    <tr>\n",
              "      <th>App</th>\n",
              "      <td>0</td>\n",
              "    </tr>\n",
              "    <tr>\n",
              "      <th>Category</th>\n",
              "      <td>0</td>\n",
              "    </tr>\n",
              "    <tr>\n",
              "      <th>Rating</th>\n",
              "      <td>1475</td>\n",
              "    </tr>\n",
              "    <tr>\n",
              "      <th>Reviews</th>\n",
              "      <td>0</td>\n",
              "    </tr>\n",
              "    <tr>\n",
              "      <th>Size</th>\n",
              "      <td>0</td>\n",
              "    </tr>\n",
              "    <tr>\n",
              "      <th>Installs</th>\n",
              "      <td>1</td>\n",
              "    </tr>\n",
              "    <tr>\n",
              "      <th>Type</th>\n",
              "      <td>1</td>\n",
              "    </tr>\n",
              "    <tr>\n",
              "      <th>Price</th>\n",
              "      <td>0</td>\n",
              "    </tr>\n",
              "    <tr>\n",
              "      <th>Content Rating</th>\n",
              "      <td>1</td>\n",
              "    </tr>\n",
              "    <tr>\n",
              "      <th>Genres</th>\n",
              "      <td>0</td>\n",
              "    </tr>\n",
              "    <tr>\n",
              "      <th>Last Updated</th>\n",
              "      <td>0</td>\n",
              "    </tr>\n",
              "    <tr>\n",
              "      <th>Current Ver</th>\n",
              "      <td>8</td>\n",
              "    </tr>\n",
              "    <tr>\n",
              "      <th>Android Ver</th>\n",
              "      <td>3</td>\n",
              "    </tr>\n",
              "  </tbody>\n",
              "</table>\n",
              "</div><br><label><b>dtype:</b> int64</label>"
            ]
          },
          "metadata": {},
          "execution_count": 6
        }
      ]
    },
    {
      "cell_type": "markdown",
      "source": [
        "### 📊 Análisis: Top 10 géneros más descargados en aplicaciones pagas\n",
        "\n",
        "El siguiente gráfico muestra el **top 10 de géneros de aplicaciones pagas más descargadas** del dataset.\n",
        "\n",
        "Para obtener esta visualización se filtraron las apps cuyo tipo (`Type`) es \"Paid\", luego se agruparon por género (`Genres`) y se sumaron las instalaciones (`Installs`) para cada uno. Finalmente, se seleccionaron los 10 géneros con mayor cantidad total de descargas.\n",
        "\n",
        "Este análisis permite identificar **qué categorías de apps pagas resultan más atractivas para los usuarios**, lo cual puede ser útil para desarrolladores o estudios de mercado en el ámbito de las apps móviles.\n"
      ],
      "metadata": {
        "id": "bdyMBLlnals3"
      }
    },
    {
      "cell_type": "code",
      "source": [
        "# Filtramos solo las apps pagas\n",
        "paid_apps = df_GooglePlay[df_GooglePlay['Type'] == 'Paid']\n",
        "\n",
        "# Agrupamos por género, sumando descargas\n",
        "installs_paid_by_genre = paid_apps.groupby('Genres')['Installs'].sum().reset_index()\n",
        "\n",
        "# Ordenamos y seleccionamos los 10 géneros más descargados\n",
        "top_paid_genres = installs_paid_by_genre.sort_values(by='Installs', ascending=False).head(10)\n",
        "\n",
        "# Gráfico\n",
        "plt.figure(figsize=(9, 5))\n",
        "sns.barplot(data=top_paid_genres, x='Genres', y='Installs', color='SteelBlue')\n",
        "plt.xticks(rotation=45)\n",
        "plt.title('Descargas por género (solo apps de pago)')\n",
        "plt.xlabel('Género')\n",
        "plt.ylabel('Total de descargas')\n",
        "plt.tight_layout()\n",
        "plt.show()"
      ],
      "metadata": {
        "colab": {
          "base_uri": "https://localhost:8080/",
          "height": 507
        },
        "id": "rO8LtMJCPe4_",
        "outputId": "f0796a59-e31f-46df-ad53-0ba271ec09da"
      },
      "execution_count": 7,
      "outputs": [
        {
          "output_type": "display_data",
          "data": {
            "text/plain": [
              "<Figure size 900x500 with 1 Axes>"
            ],
            "image/png": "[encoded data removed]"
          },
          "metadata": {}
        }
      ]
    }
  ]
}